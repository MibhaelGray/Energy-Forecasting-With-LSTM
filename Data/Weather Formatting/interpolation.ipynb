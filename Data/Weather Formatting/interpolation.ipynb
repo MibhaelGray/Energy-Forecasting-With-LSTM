{
 "cells": [
  {
   "cell_type": "code",
   "execution_count": 20,
   "metadata": {},
   "outputs": [
    {
     "name": "stdout",
     "output_type": "stream",
     "text": [
      "                  DATE HourlyDryBulbTemperature HourlyRelativeHumidity  \\\n",
      "0  2019-01-01T00:53:00                       44                   79.0   \n",
      "1  2019-01-01T01:53:00                       43                   82.0   \n",
      "2  2019-01-01T02:53:00                       43                   82.0   \n",
      "3  2019-01-01T02:59:00                       43                   82.0   \n",
      "4  2019-01-01T03:53:00                       42                   82.0   \n",
      "\n",
      "  HourlyWindSpeed  \n",
      "0            13.0  \n",
      "1            15.0  \n",
      "2            17.0  \n",
      "3            14.0  \n",
      "4            11.0  \n",
      "DATE                           0\n",
      "HourlyDryBulbTemperature    2371\n",
      "HourlyRelativeHumidity      2375\n",
      "HourlyWindSpeed             2381\n",
      "dtype: int64\n"
     ]
    }
   ],
   "source": [
    "import pandas as pd\n",
    "\n",
    "# Importing the data\n",
    "filtered_weather_data = pd.read_csv(\"C:/Users/mgray/OneDrive/Documents/Energy Forecasting/Data/Weather Data/filtered_weather_data.csv\")\n",
    "filtered_weather_data = filtered_weather_data.drop(columns=['STATION'])\n",
    "print(filtered_weather_data.head())\n",
    "\n",
    "\n",
    "# We need to find how many rows have missing values\n",
    "\n",
    "print(filtered_weather_data.isnull().sum())"
   ]
  },
  {
   "cell_type": "code",
   "execution_count": 21,
   "metadata": {},
   "outputs": [
    {
     "name": "stdout",
     "output_type": "stream",
     "text": [
      "                 DATE HourlyDryBulbTemperature HourlyRelativeHumidity  \\\n",
      "0 2019-01-01 00:53:00                       44                   79.0   \n",
      "1 2019-01-01 01:53:00                       43                   82.0   \n",
      "2 2019-01-01 02:53:00                       43                   82.0   \n",
      "3 2019-01-01 02:59:00                       43                   82.0   \n",
      "4 2019-01-01 03:53:00                       42                   82.0   \n",
      "\n",
      "  HourlyWindSpeed  \n",
      "0            13.0  \n",
      "1            15.0  \n",
      "2            17.0  \n",
      "3            14.0  \n",
      "4            11.0  \n"
     ]
    }
   ],
   "source": [
    "filtered_weather_data['DATE'] = pd.to_datetime(filtered_weather_data['DATE'])\n",
    "print(filtered_weather_data.head())"
   ]
  }
 ],
 "metadata": {
  "kernelspec": {
   "display_name": "Python 3",
   "language": "python",
   "name": "python3"
  },
  "language_info": {
   "codemirror_mode": {
    "name": "ipython",
    "version": 3
   },
   "file_extension": ".py",
   "mimetype": "text/x-python",
   "name": "python",
   "nbconvert_exporter": "python",
   "pygments_lexer": "ipython3",
   "version": "3.9.5"
  }
 },
 "nbformat": 4,
 "nbformat_minor": 2
}
